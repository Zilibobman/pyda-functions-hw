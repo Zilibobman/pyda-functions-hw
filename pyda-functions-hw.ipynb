{
 "cells": [
  {
   "cell_type": "markdown",
   "metadata": {},
   "source": [
    "## Задание 1"
   ]
  },
  {
   "cell_type": "markdown",
   "metadata": {},
   "source": [
    "Дан список вида:"
   ]
  },
  {
   "cell_type": "code",
   "execution_count": 6,
   "metadata": {},
   "outputs": [],
   "source": [
    "data = [\n",
    "    [13, 25, 23, 34],\n",
    "    [45, 32, 44, 47],\n",
    "    [12, 33, 23, 95],\n",
    "    [13, 53, 34, 35]\n",
    "]"
   ]
  },
  {
   "cell_type": "code",
   "execution_count": 16,
   "metadata": {},
   "outputs": [
    {
     "name": "stdout",
     "output_type": "stream",
     "text": [
      "103\n"
     ]
    }
   ],
   "source": [
    "def mat_diag_sum(mat):\n",
    "    diagonal = 0\n",
    "    for i in range(len(mat)):\n",
    "        diagonal += mat[i][i]\n",
    "    return diagonal\n",
    "print(mat_diag_sum(data))"
   ]
  },
  {
   "cell_type": "markdown",
   "metadata": {},
   "source": [
    "Напишите функцию, которая возвращает сумму элементов на диагонали. Т. е. 13+32+23+35.  \n",
    "Список может быть любой длины, но всегда является \"квадратным\" (количество элементов во вложенных списках равно их количеству)."
   ]
  },
  {
   "cell_type": "markdown",
   "metadata": {},
   "source": [
    "## Задание 2"
   ]
  },
  {
   "cell_type": "markdown",
   "metadata": {},
   "source": [
    "Напишите функцию, возвращающую сумму первых n чисел Фибоначчи (для этого вам может понадобится ознакомиться с рекурсией)."
   ]
  },
  {
   "cell_type": "code",
   "execution_count": 15,
   "metadata": {},
   "outputs": [
    {
     "name": "stdout",
     "output_type": "stream",
     "text": [
      "20\n"
     ]
    }
   ],
   "source": [
    "def fib(n):\n",
    "    if (n == 1):\n",
    "        return 1\n",
    "    if(n == 0):\n",
    "        return 0\n",
    "    return fib(n-1) + fib(n-2)\n",
    "def sum_fib(n):\n",
    "    if n == 0:\n",
    "        return 0\n",
    "    if n == 1:\n",
    "        return 1\n",
    "    return fib(n) + sum_fib(n-1)\n",
    "print(sum_fib(6))\n",
    "    "
   ]
  },
  {
   "cell_type": "markdown",
   "metadata": {},
   "source": [
    "## Задание 3\n"
   ]
  },
  {
   "cell_type": "markdown",
   "metadata": {},
   "source": [
    "Напишите функцию, преобразующую произвольный список вида ['2018-01-01', 'yandex', 'cpc', 100] (он может быть любой длины) в словарь {'2018-01-01': {'yandex': {'cpc': 100}}}"
   ]
  },
  {
   "cell_type": "code",
   "execution_count": 21,
   "metadata": {},
   "outputs": [],
   "source": [
    "data_list = ['2018-01-01', 'yandex', 'cpc', 100, 23, 42, 'q']"
   ]
  },
  {
   "cell_type": "code",
   "execution_count": 22,
   "metadata": {},
   "outputs": [
    {
     "name": "stdout",
     "output_type": "stream",
     "text": [
      "{'2018-01-01': {'yandex': {'cpc': {100: {23: {42: 'q'}}}}}}\n"
     ]
    }
   ],
   "source": [
    "def dict_from_list(arg):\n",
    "    if len(arg) == 2:\n",
    "        return {arg[0] : arg[1]}\n",
    "    return {arg[0] : dict_from_list(arg[1:])}\n",
    "print(dict_from_list(data_list))"
   ]
  },
  {
   "cell_type": "markdown",
   "metadata": {},
   "source": [
    "## Задание 4"
   ]
  },
  {
   "cell_type": "markdown",
   "metadata": {},
   "source": [
    "Вы работаете секретарем и вам постоянно приходят различные документы. Вы должны быть очень внимательны, чтобы не потерять ни один документ. Каталог документов хранится в следующем виде:"
   ]
  },
  {
   "cell_type": "code",
   "execution_count": 21,
   "metadata": {},
   "outputs": [],
   "source": [
    "documents = [\n",
    "    {'type': 'passport', 'number': '2207 876234', 'name': 'Василий Гупкин'},\n",
    "    {'type': 'invoice', 'number': '11-2', 'name': 'Геннадий Покемонов'},\n",
    "    {'type': 'insurance', 'number': '10006', 'name': 'Аристарх Павлов'}\n",
    "]"
   ]
  },
  {
   "cell_type": "markdown",
   "metadata": {},
   "source": [
    "Перечень полок, на которых находятся документы хранится в следующем виде:"
   ]
  },
  {
   "cell_type": "code",
   "execution_count": 22,
   "metadata": {},
   "outputs": [],
   "source": [
    "directories = {\n",
    "    '1': ['2207 876234', '11-2', '5455 028765'],\n",
    "    '2': ['10006', '5400 028765', '5455 002299'],\n",
    "    '3': []\n",
    "}"
   ]
  },
  {
   "cell_type": "markdown",
   "metadata": {},
   "source": [
    "Необходимо реализовать пользовательские команды (внимание! это не название функций, которые должны быть выразительными, а команды, которые вводит пользователь, чтобы получить необходимый результат):\n",
    "  \n",
    "- p – people – команда, которая спросит номер документа и выведет имя человека, которому он принадлежит;  \n",
    "- s – shelf – команда, которая спросит номер документа и выведет номер полки, на которой он находится  \n",
    "Правильно обработайте ситуацию, когда пользователь будет вводить несуществующий документ.\n",
    "- l – list – команда, которая выведет список всех документов в формате   \n",
    "**passport \"2207 876234\" \"Василий Гупкин\"**  \n",
    "- as – add shelf – команда, которая спросит номер новой полки и добавит ее в перечень\n",
    "- d – delete – команда, которая спросит номер документа и удалит его из каталога и из перечня полок. Предусмотрите сценарий, когда пользователь вводит несуществующий документ;  \n",
    "- m – move – команда, которая спросит номер документа и целевую полку и переместит его с текущей полки на целевую. Корректно обработайте кейсы, когда пользователь пытается переместить несуществующий документ или переместить документ на несуществующую полку;  \n",
    "- a – add – команда, которая добавит новый документ в каталог и в перечень полок, спросив его номер, тип, имя владельца и номер полки, на котором он будет храниться."
   ]
  },
  {
   "cell_type": "code",
   "execution_count": 23,
   "metadata": {},
   "outputs": [],
   "source": [
    "#проверка существования документа\n",
    "def doc_is_exist(number):\n",
    "    for doc in documents:\n",
    "        if number == doc['number']:\n",
    "            return doc\n",
    "    return False"
   ]
  },
  {
   "cell_type": "code",
   "execution_count": 24,
   "metadata": {},
   "outputs": [],
   "source": [
    "#получить имя владельца документа\n",
    "def get_autor_name(doc):\n",
    "    return doc['name']"
   ]
  },
  {
   "cell_type": "code",
   "execution_count": 25,
   "metadata": {},
   "outputs": [],
   "source": [
    "#получить номер полки с документом\n",
    "def get_shelf_number(doc):\n",
    "    for shelf, books in directories.items():\n",
    "        if doc['number'] in books:\n",
    "            return shelf"
   ]
  },
  {
   "cell_type": "code",
   "execution_count": 26,
   "metadata": {},
   "outputs": [],
   "source": [
    "#вывод списка документов\n",
    "def print_docs():\n",
    "    for doc in documents:\n",
    "        print(doc['type'], ' \"', doc['number'], '\" \"', doc['name'], '\"', sep = '')"
   ]
  },
  {
   "cell_type": "code",
   "execution_count": 27,
   "metadata": {},
   "outputs": [],
   "source": [
    "#добавить новую полку\n",
    "def add_shelf(number):\n",
    "    directories.setdefault(str(number), [])"
   ]
  },
  {
   "cell_type": "code",
   "execution_count": 28,
   "metadata": {},
   "outputs": [],
   "source": [
    "#удалить документ\n",
    "def del_doc(doc):\n",
    "    for shelf, books in directories.items():\n",
    "        if doc['number'] in books:\n",
    "            books.remove(doc['number'])\n",
    "            documents.remove(doc)\n",
    "            return\n",
    "    "
   ]
  },
  {
   "cell_type": "code",
   "execution_count": 29,
   "metadata": {},
   "outputs": [],
   "source": [
    "#добавить новый документ\n",
    "def add_new_doc():\n",
    "    doc = {}\n",
    "    while True:\n",
    "        number = input('Введите номер документа: ')\n",
    "        if doc_is_exist(number) == False:\n",
    "            doc['number'] = number\n",
    "            break\n",
    "        else:\n",
    "            print(\"Документ с таким номером уже существует. Введите другой номер\")\n",
    "            \n",
    "    doc['type'] = input('Введите тип документа: ')\n",
    "    doc['name'] = input('Введите имя владельца документа: ')\n",
    "    documents.append(doc)\n",
    "    shelf = input('Введите номер полки для докуммента: ')\n",
    "    add_shelf(shelf)\n",
    "    directories[shelf].append(doc['number'])\n",
    "    "
   ]
  },
  {
   "cell_type": "code",
   "execution_count": 30,
   "metadata": {},
   "outputs": [
    {
     "name": "stdout",
     "output_type": "stream",
     "text": [
      "Введите команду: end\n"
     ]
    }
   ],
   "source": [
    "while True:\n",
    "    doc = []\n",
    "    com = input('Введите команду: ')\n",
    "    if com == 'end':\n",
    "        break\n",
    "    if com == 'p' or com == 'people' or com == 's' or com == 'shelf' or com == 'd' or com == 'delete':\n",
    "        doc = doc_is_exist(input('Введиде номер документа: '))\n",
    "        if doc == False:\n",
    "            print('в каталоге нет интересующей вас книги')\n",
    "            continue\n",
    "\n",
    "    if com == 'p' or com == 'people':\n",
    "        print('Имя владельци документа ',get_autor_name(doc))\n",
    "        continue\n",
    "\n",
    "    if com == 's' or com == 'shelf':\n",
    "        print('Документ находится на полке: ',get_shelf_number(doc))\n",
    "        continue\n",
    "        \n",
    "    if com == 'l' or com == 'list':\n",
    "        print_docs()\n",
    "        continue\n",
    "        \n",
    "    if com == 'as' or com == 'add shelf':\n",
    "        add_shelf(int(input('введите номер новой полки: ')))\n",
    "        continue\n",
    "    if com == 'd' or com == 'delete':\n",
    "        del_doc(doc)\n",
    "        print('Документ удалён')\n",
    "        continue\n",
    "    if com == 'a' or com == 'add':\n",
    "        add_new_doc()"
   ]
  },
  {
   "cell_type": "code",
   "execution_count": 31,
   "metadata": {},
   "outputs": [
    {
     "name": "stdout",
     "output_type": "stream",
     "text": [
      "{'1': ['2207 876234', '11-2', '5455 028765'], '2': ['10006', '5400 028765', '5455 002299'], '3': []}\n"
     ]
    }
   ],
   "source": [
    "print(directories)"
   ]
  },
  {
   "cell_type": "code",
   "execution_count": null,
   "metadata": {},
   "outputs": [],
   "source": []
  }
 ],
 "metadata": {
  "kernelspec": {
   "display_name": "Python 3",
   "language": "python",
   "name": "python3"
  },
  "language_info": {
   "codemirror_mode": {
    "name": "ipython",
    "version": 3
   },
   "file_extension": ".py",
   "mimetype": "text/x-python",
   "name": "python",
   "nbconvert_exporter": "python",
   "pygments_lexer": "ipython3",
   "version": "3.7.4"
  }
 },
 "nbformat": 4,
 "nbformat_minor": 2
}
